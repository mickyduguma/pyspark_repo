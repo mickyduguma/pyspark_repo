{
 "cells": [
  {
   "cell_type": "markdown",
   "id": "ae5e04ba",
   "metadata": {},
   "source": [
    "\n",
    "## Introduction.\n",
    "\n",
    "- Here is the exercised I did while studying Pyspark.\n",
    "- Also at the End of this notebook, I did my homework with Pyspark and Linear Regression model\n",
    "    - given a data set 'tips.csv', I used linear regression and pyspark to predict a total bill  based on time, size, day and sex of the tiper"
   ]
  },
  {
   "cell_type": "code",
   "execution_count": 1,
   "id": "662a7479",
   "metadata": {},
   "outputs": [
    {
     "name": "stdout",
     "output_type": "stream",
     "text": [
      "Requirement already satisfied: pyspark in /opt/anaconda3/lib/python3.9/site-packages (3.3.1)\r\n",
      "Requirement already satisfied: py4j==0.10.9.5 in /opt/anaconda3/lib/python3.9/site-packages (from pyspark) (0.10.9.5)\r\n"
     ]
    }
   ],
   "source": [
    "!pip install pyspark"
   ]
  },
  {
   "cell_type": "code",
   "execution_count": 2,
   "id": "16254328",
   "metadata": {},
   "outputs": [],
   "source": [
    "from pyspark.sql import SparkSession"
   ]
  },
  {
   "cell_type": "code",
   "execution_count": 3,
   "id": "3625808e",
   "metadata": {},
   "outputs": [],
   "source": [
    "import pyspark"
   ]
  },
  {
   "cell_type": "code",
   "execution_count": 4,
   "id": "4fae4f58",
   "metadata": {},
   "outputs": [],
   "source": [
    "from pyspark.sql import SparkSession"
   ]
  },
  {
   "cell_type": "code",
   "execution_count": 5,
   "id": "c74dc09d",
   "metadata": {},
   "outputs": [
    {
     "name": "stderr",
     "output_type": "stream",
     "text": [
      "Setting default log level to \"WARN\".\n",
      "To adjust logging level use sc.setLogLevel(newLevel). For SparkR, use setLogLevel(newLevel).\n"
     ]
    },
    {
     "name": "stdout",
     "output_type": "stream",
     "text": [
      "22/12/02 08:31:46 WARN NativeCodeLoader: Unable to load native-hadoop library for your platform... using builtin-java classes where applicable\n"
     ]
    }
   ],
   "source": [
    "spark = SparkSession.builder.appName('Myfirst').getOrCreate()"
   ]
  },
  {
   "cell_type": "code",
   "execution_count": 6,
   "id": "afaa90bd",
   "metadata": {},
   "outputs": [
    {
     "data": {
      "text/html": [
       "\n",
       "            <div>\n",
       "                <p><b>SparkSession - in-memory</b></p>\n",
       "                \n",
       "        <div>\n",
       "            <p><b>SparkContext</b></p>\n",
       "\n",
       "            <p><a href=\"http://192.168.1.100:4040\">Spark UI</a></p>\n",
       "\n",
       "            <dl>\n",
       "              <dt>Version</dt>\n",
       "                <dd><code>v3.3.1</code></dd>\n",
       "              <dt>Master</dt>\n",
       "                <dd><code>local[*]</code></dd>\n",
       "              <dt>AppName</dt>\n",
       "                <dd><code>Myfirst</code></dd>\n",
       "            </dl>\n",
       "        </div>\n",
       "        \n",
       "            </div>\n",
       "        "
      ],
      "text/plain": [
       "<pyspark.sql.session.SparkSession at 0x7fb8a7c2ed00>"
      ]
     },
     "execution_count": 6,
     "metadata": {},
     "output_type": "execute_result"
    }
   ],
   "source": [
    "spark"
   ]
  },
  {
   "cell_type": "code",
   "execution_count": 7,
   "id": "b1aee72d",
   "metadata": {},
   "outputs": [],
   "source": [
    "readc = spark.read.csv('test1.csv')"
   ]
  },
  {
   "cell_type": "code",
   "execution_count": 8,
   "id": "676d4e78",
   "metadata": {},
   "outputs": [
    {
     "data": {
      "text/plain": [
       "DataFrame[_c0: string, _c1: string, _c2: string, _c3: string]"
      ]
     },
     "execution_count": 8,
     "metadata": {},
     "output_type": "execute_result"
    }
   ],
   "source": [
    "readc"
   ]
  },
  {
   "cell_type": "code",
   "execution_count": 9,
   "id": "e3a7aed9",
   "metadata": {},
   "outputs": [
    {
     "name": "stdout",
     "output_type": "stream",
     "text": [
      "+--------+----+----------+------+\n",
      "|     _c0| _c1|       _c2|   _c3|\n",
      "+--------+----+----------+------+\n",
      "|    Name| age|Experience|Salary|\n",
      "|Milkiyas|  24|         2| 10000|\n",
      "|  Tolesa|  30|         8| 25000|\n",
      "|    John|  29|         4| 20000|\n",
      "|    Paul|  24|         3| 20000|\n",
      "|  Eyyuel|  21|         1| 15000|\n",
      "|    Abdi|  23|         2|  null|\n",
      "|   Chris|  32|      null|  null|\n",
      "|    Shar|null|      null|  null|\n",
      "+--------+----+----------+------+\n",
      "\n"
     ]
    }
   ],
   "source": [
    "readc.show()"
   ]
  },
  {
   "cell_type": "code",
   "execution_count": 10,
   "id": "0c9831d4",
   "metadata": {},
   "outputs": [],
   "source": [
    "readc = spark.read.option('header', 'true').csv('test1.csv')"
   ]
  },
  {
   "cell_type": "code",
   "execution_count": 11,
   "id": "0f7204cf",
   "metadata": {},
   "outputs": [
    {
     "name": "stdout",
     "output_type": "stream",
     "text": [
      "+--------+----+----------+------+\n",
      "|    Name| age|Experience|Salary|\n",
      "+--------+----+----------+------+\n",
      "|Milkiyas|  24|         2| 10000|\n",
      "|  Tolesa|  30|         8| 25000|\n",
      "|    John|  29|         4| 20000|\n",
      "|    Paul|  24|         3| 20000|\n",
      "|  Eyyuel|  21|         1| 15000|\n",
      "|    Abdi|  23|         2|  null|\n",
      "|   Chris|  32|      null|  null|\n",
      "|    Shar|null|      null|  null|\n",
      "+--------+----+----------+------+\n",
      "\n"
     ]
    }
   ],
   "source": [
    "readc.show()"
   ]
  },
  {
   "cell_type": "code",
   "execution_count": 12,
   "id": "4a3546d8",
   "metadata": {},
   "outputs": [
    {
     "name": "stdout",
     "output_type": "stream",
     "text": [
      "root\n",
      " |-- Name: string (nullable = true)\n",
      " |-- age: string (nullable = true)\n",
      " |-- Experience: string (nullable = true)\n",
      " |-- Salary: string (nullable = true)\n",
      "\n"
     ]
    }
   ],
   "source": [
    "readc.printSchema()"
   ]
  },
  {
   "cell_type": "code",
   "execution_count": 13,
   "id": "4facefc2",
   "metadata": {},
   "outputs": [
    {
     "data": {
      "text/plain": [
       "[Row(Name='Milkiyas', age='24', Experience='2', Salary='10000'),\n",
       " Row(Name='Tolesa', age='30', Experience='8', Salary='25000'),\n",
       " Row(Name='John', age='29', Experience='4', Salary='20000'),\n",
       " Row(Name='Paul', age='24', Experience='3', Salary='20000')]"
      ]
     },
     "execution_count": 13,
     "metadata": {},
     "output_type": "execute_result"
    }
   ],
   "source": [
    "readc.head(4)"
   ]
  },
  {
   "cell_type": "code",
   "execution_count": 14,
   "id": "b279c276",
   "metadata": {},
   "outputs": [
    {
     "name": "stdout",
     "output_type": "stream",
     "text": [
      "+--------+\n",
      "|    Name|\n",
      "+--------+\n",
      "|Milkiyas|\n",
      "|  Tolesa|\n",
      "|    John|\n",
      "|    Paul|\n",
      "|  Eyyuel|\n",
      "|    Abdi|\n",
      "|   Chris|\n",
      "|    Shar|\n",
      "+--------+\n",
      "\n"
     ]
    }
   ],
   "source": [
    "readc.select('Name').show()"
   ]
  },
  {
   "cell_type": "code",
   "execution_count": 15,
   "id": "abc5c642",
   "metadata": {},
   "outputs": [
    {
     "name": "stdout",
     "output_type": "stream",
     "text": [
      "+--------+----+----------+------+\n",
      "|    Name| age|Experience|Salary|\n",
      "+--------+----+----------+------+\n",
      "|Milkiyas|  24|         2| 10000|\n",
      "|  Tolesa|  30|         8| 25000|\n",
      "|    John|  29|         4| 20000|\n",
      "|    Paul|  24|         3| 20000|\n",
      "|  Eyyuel|  21|         1| 15000|\n",
      "|    Abdi|  23|         2|  null|\n",
      "|   Chris|  32|      null|  null|\n",
      "|    Shar|null|      null|  null|\n",
      "+--------+----+----------+------+\n",
      "\n"
     ]
    }
   ],
   "source": [
    "readc.show()\n"
   ]
  },
  {
   "cell_type": "code",
   "execution_count": 16,
   "id": "23dfb38c",
   "metadata": {},
   "outputs": [
    {
     "name": "stdout",
     "output_type": "stream",
     "text": [
      "+--------+---+----------+------+\n",
      "|    Name|age|Experience|Salary|\n",
      "+--------+---+----------+------+\n",
      "|Milkiyas| 24|         2| 10000|\n",
      "|  Tolesa| 30|         8| 25000|\n",
      "|    John| 29|         4| 20000|\n",
      "|    Paul| 24|         3| 20000|\n",
      "|  Eyyuel| 21|         1| 15000|\n",
      "+--------+---+----------+------+\n",
      "\n"
     ]
    }
   ],
   "source": [
    "readc.na.drop().show()"
   ]
  },
  {
   "cell_type": "code",
   "execution_count": 17,
   "id": "e736b843",
   "metadata": {},
   "outputs": [
    {
     "name": "stdout",
     "output_type": "stream",
     "text": [
      "+--------+----+----------+------+\n",
      "|    Name| age|Experience|Salary|\n",
      "+--------+----+----------+------+\n",
      "|Milkiyas|  24|         2| 10000|\n",
      "|  Tolesa|  30|         8| 25000|\n",
      "|    John|  29|         4| 20000|\n",
      "|    Paul|  24|         3| 20000|\n",
      "|  Eyyuel|  21|         1| 15000|\n",
      "|    Abdi|  23|         2|  null|\n",
      "|   Chris|  32|      null|  null|\n",
      "|    Shar|null|      null|  null|\n",
      "+--------+----+----------+------+\n",
      "\n"
     ]
    }
   ],
   "source": [
    "readc.show()"
   ]
  },
  {
   "cell_type": "code",
   "execution_count": 18,
   "id": "a8cfffca",
   "metadata": {},
   "outputs": [
    {
     "name": "stdout",
     "output_type": "stream",
     "text": [
      "+--------+-------------+-------------+-------------+\n",
      "|    Name|          age|   Experience|       Salary|\n",
      "+--------+-------------+-------------+-------------+\n",
      "|Milkiyas|           24|            2|        10000|\n",
      "|  Tolesa|           30|            8|        25000|\n",
      "|    John|           29|            4|        20000|\n",
      "|    Paul|           24|            3|        20000|\n",
      "|  Eyyuel|           21|            1|        15000|\n",
      "|    Abdi|           23|            2|Missing Value|\n",
      "|   Chris|           32|Missing Value|Missing Value|\n",
      "|    Shar|Missing Value|Missing Value|Missing Value|\n",
      "+--------+-------------+-------------+-------------+\n",
      "\n"
     ]
    }
   ],
   "source": [
    "readc.na.fill('Missing Value').show()"
   ]
  },
  {
   "cell_type": "code",
   "execution_count": 19,
   "id": "660292ee",
   "metadata": {},
   "outputs": [
    {
     "data": {
      "text/plain": [
       "[('Name', 'string'),\n",
       " ('age', 'string'),\n",
       " ('Experience', 'string'),\n",
       " ('Salary', 'string')]"
      ]
     },
     "execution_count": 19,
     "metadata": {},
     "output_type": "execute_result"
    }
   ],
   "source": [
    "readc.dtypes"
   ]
  },
  {
   "cell_type": "code",
   "execution_count": 20,
   "id": "7332957c",
   "metadata": {},
   "outputs": [],
   "source": [
    "readc = readc.withColumn('Experience after two Years', readc['Experience']+2)"
   ]
  },
  {
   "cell_type": "code",
   "execution_count": 21,
   "id": "6d36105f",
   "metadata": {},
   "outputs": [
    {
     "name": "stdout",
     "output_type": "stream",
     "text": [
      "+--------+----+----------+------+--------------------------+\n",
      "|    Name| age|Experience|Salary|Experience after two Years|\n",
      "+--------+----+----------+------+--------------------------+\n",
      "|Milkiyas|  24|         2| 10000|                       4.0|\n",
      "|  Tolesa|  30|         8| 25000|                      10.0|\n",
      "|    John|  29|         4| 20000|                       6.0|\n",
      "|    Paul|  24|         3| 20000|                       5.0|\n",
      "|  Eyyuel|  21|         1| 15000|                       3.0|\n",
      "|    Abdi|  23|         2|  null|                       4.0|\n",
      "|   Chris|  32|      null|  null|                      null|\n",
      "|    Shar|null|      null|  null|                      null|\n",
      "+--------+----+----------+------+--------------------------+\n",
      "\n"
     ]
    }
   ],
   "source": [
    "readc.show()"
   ]
  },
  {
   "cell_type": "code",
   "execution_count": 22,
   "id": "c33183a9",
   "metadata": {},
   "outputs": [
    {
     "name": "stdout",
     "output_type": "stream",
     "text": [
      "+--------+---+----------+------+--------------------------+\n",
      "|    Name|age|Experience|Salary|Experience after two Years|\n",
      "+--------+---+----------+------+--------------------------+\n",
      "|Milkiyas| 24|         2| 10000|                       4.0|\n",
      "|  Tolesa| 30|         8| 25000|                      10.0|\n",
      "|    John| 29|         4| 20000|                       6.0|\n",
      "|    Paul| 24|         3| 20000|                       5.0|\n",
      "|  Eyyuel| 21|         1| 15000|                       3.0|\n",
      "|    Abdi| 23|         2|  null|                       4.0|\n",
      "|   Chris| 32|      null|  null|                      null|\n",
      "+--------+---+----------+------+--------------------------+\n",
      "\n"
     ]
    }
   ],
   "source": [
    "readc.na.drop(how=\"any\", thresh=2).show()"
   ]
  },
  {
   "cell_type": "code",
   "execution_count": 23,
   "id": "deb9f612",
   "metadata": {},
   "outputs": [
    {
     "name": "stdout",
     "output_type": "stream",
     "text": [
      "+--------+---+----------+------+--------------------------+\n",
      "|    Name|age|Experience|Salary|Experience after two Years|\n",
      "+--------+---+----------+------+--------------------------+\n",
      "|Milkiyas| 24|         2| 10000|                       4.0|\n",
      "|  Tolesa| 30|         8| 25000|                      10.0|\n",
      "|    John| 29|         4| 20000|                       6.0|\n",
      "|    Paul| 24|         3| 20000|                       5.0|\n",
      "|  Eyyuel| 21|         1| 15000|                       3.0|\n",
      "+--------+---+----------+------+--------------------------+\n",
      "\n"
     ]
    }
   ],
   "source": [
    "readc.na.drop(how=\"any\",thresh=5).show()"
   ]
  },
  {
   "cell_type": "code",
   "execution_count": 24,
   "id": "4c251692",
   "metadata": {},
   "outputs": [],
   "source": [
    "from pyspark.sql.types import IntegerType,DoubleType\n",
    "\n",
    "readc=readc.withColumn(\"age\",readc.age.cast(IntegerType()))\n",
    "readc=readc.withColumn(\"Experience\",readc.Experience.cast(DoubleType()))\n",
    "readc=readc.withColumn(\"Salary\",readc.Salary.cast(DoubleType()))\n"
   ]
  },
  {
   "cell_type": "code",
   "execution_count": 25,
   "id": "ce2439b3",
   "metadata": {},
   "outputs": [],
   "source": [
    "from pyspark.ml.feature import Imputer\n",
    "\n",
    "imputer = Imputer(\n",
    "    inputCols=['age', 'Experience', 'Salary'], \n",
    "    outputCols=[\"{}_imputed\".format(c) for c in ['age', 'Experience', 'Salary']]\n",
    "    ).setStrategy(\"mean\")"
   ]
  },
  {
   "cell_type": "code",
   "execution_count": 26,
   "id": "478fe8dc",
   "metadata": {},
   "outputs": [
    {
     "data": {
      "text/plain": [
       "[('Name', 'string'),\n",
       " ('age', 'int'),\n",
       " ('Experience', 'double'),\n",
       " ('Salary', 'double'),\n",
       " ('Experience after two Years', 'double')]"
      ]
     },
     "execution_count": 26,
     "metadata": {},
     "output_type": "execute_result"
    }
   ],
   "source": [
    "readc.dtypes"
   ]
  },
  {
   "cell_type": "code",
   "execution_count": 27,
   "id": "432dd079",
   "metadata": {},
   "outputs": [
    {
     "name": "stdout",
     "output_type": "stream",
     "text": [
      "+--------+----+----------+-------+--------------------------+\n",
      "|    Name| age|Experience| Salary|Experience after two Years|\n",
      "+--------+----+----------+-------+--------------------------+\n",
      "|Milkiyas|  24|       2.0|10000.0|                       4.0|\n",
      "|  Tolesa|  30|       8.0|25000.0|                      10.0|\n",
      "|    John|  29|       4.0|20000.0|                       6.0|\n",
      "|    Paul|  24|       3.0|20000.0|                       5.0|\n",
      "|  Eyyuel|  21|       1.0|15000.0|                       3.0|\n",
      "|    Abdi|  23|       2.0|   null|                       4.0|\n",
      "|   Chris|  32|      null|   null|                      null|\n",
      "|    Shar|null|      null|   null|                      null|\n",
      "+--------+----+----------+-------+--------------------------+\n",
      "\n"
     ]
    }
   ],
   "source": [
    "readc.show()"
   ]
  },
  {
   "cell_type": "code",
   "execution_count": 28,
   "id": "cac41974",
   "metadata": {
    "scrolled": true
   },
   "outputs": [
    {
     "name": "stdout",
     "output_type": "stream",
     "text": [
      "+--------+----+----------+-------+--------------------------+-----------+------------------+--------------+\n",
      "|    Name| age|Experience| Salary|Experience after two Years|age_imputed|Experience_imputed|Salary_imputed|\n",
      "+--------+----+----------+-------+--------------------------+-----------+------------------+--------------+\n",
      "|Milkiyas|  24|       2.0|10000.0|                       4.0|         24|               2.0|       10000.0|\n",
      "|  Tolesa|  30|       8.0|25000.0|                      10.0|         30|               8.0|       25000.0|\n",
      "|    John|  29|       4.0|20000.0|                       6.0|         29|               4.0|       20000.0|\n",
      "|    Paul|  24|       3.0|20000.0|                       5.0|         24|               3.0|       20000.0|\n",
      "|  Eyyuel|  21|       1.0|15000.0|                       3.0|         21|               1.0|       15000.0|\n",
      "|    Abdi|  23|       2.0|   null|                       4.0|         23|               2.0|       18000.0|\n",
      "|   Chris|  32|      null|   null|                      null|         32|3.3333333333333335|       18000.0|\n",
      "|    Shar|null|      null|   null|                      null|         26|3.3333333333333335|       18000.0|\n",
      "+--------+----+----------+-------+--------------------------+-----------+------------------+--------------+\n",
      "\n"
     ]
    }
   ],
   "source": [
    "imputer.fit(readc).transform(readc).show()"
   ]
  },
  {
   "cell_type": "markdown",
   "id": "32b9df9d",
   "metadata": {},
   "source": [
    "## Trying to work with Filter, Group and Aggregiate functions"
   ]
  },
  {
   "cell_type": "code",
   "execution_count": 29,
   "id": "a912c046",
   "metadata": {},
   "outputs": [],
   "source": [
    "readtest3=spark.read.csv('test3.csv',header=True,inferSchema=True)"
   ]
  },
  {
   "cell_type": "code",
   "execution_count": 30,
   "id": "4222a5b8",
   "metadata": {},
   "outputs": [
    {
     "name": "stdout",
     "output_type": "stream",
     "text": [
      "+------+------------+------+\n",
      "|  Name| Departments|salary|\n",
      "+------+------------+------+\n",
      "|  Abdi|Data Science| 10000|\n",
      "|tolesa|         IOT|  5000|\n",
      "|Duguma|    Big Data|  4000|\n",
      "|  Dian|    Big Data|  4000|\n",
      "| Helly|Data Science|  3000|\n",
      "|Duguma|Data Science| 20000|\n",
      "|Debelo|         IOT| 10000|\n",
      "|tolesa|    Big Data|  5000|\n",
      "|  Dian|Data Science| 10000|\n",
      "|  Abdi|    Big Data|  2000|\n",
      "+------+------------+------+\n",
      "\n"
     ]
    }
   ],
   "source": [
    "readtest3.show()"
   ]
  },
  {
   "cell_type": "code",
   "execution_count": 31,
   "id": "6b79f88f",
   "metadata": {},
   "outputs": [
    {
     "name": "stdout",
     "output_type": "stream",
     "text": [
      "+------+------------+\n",
      "|  Name| Departments|\n",
      "+------+------------+\n",
      "|  Abdi|Data Science|\n",
      "|tolesa|         IOT|\n",
      "|Duguma|    Big Data|\n",
      "|  Dian|    Big Data|\n",
      "| Helly|Data Science|\n",
      "|Duguma|Data Science|\n",
      "|Debelo|         IOT|\n",
      "|tolesa|    Big Data|\n",
      "|  Dian|Data Science|\n",
      "|  Abdi|    Big Data|\n",
      "+------+------------+\n",
      "\n"
     ]
    }
   ],
   "source": [
    "readtest3.filter(\"salary<=20000\").select(['Name','Departments']).show()"
   ]
  },
  {
   "cell_type": "code",
   "execution_count": 32,
   "id": "953682ac",
   "metadata": {},
   "outputs": [
    {
     "name": "stdout",
     "output_type": "stream",
     "text": [
      "+------+-----------+\n",
      "|  Name|sum(salary)|\n",
      "+------+-----------+\n",
      "|  Dian|      14000|\n",
      "|  Abdi|      12000|\n",
      "|tolesa|      10000|\n",
      "|Duguma|      24000|\n",
      "| Helly|       3000|\n",
      "|Debelo|      10000|\n",
      "+------+-----------+\n",
      "\n"
     ]
    }
   ],
   "source": [
    "readtest3.groupBy('Name').sum().show()"
   ]
  },
  {
   "cell_type": "code",
   "execution_count": 33,
   "id": "1396a376",
   "metadata": {},
   "outputs": [
    {
     "name": "stdout",
     "output_type": "stream",
     "text": [
      "+------+-----------+\n",
      "|  Name|avg(salary)|\n",
      "+------+-----------+\n",
      "|  Dian|     7000.0|\n",
      "|  Abdi|     6000.0|\n",
      "|tolesa|     5000.0|\n",
      "|Duguma|    12000.0|\n",
      "| Helly|     3000.0|\n",
      "|Debelo|    10000.0|\n",
      "+------+-----------+\n",
      "\n"
     ]
    }
   ],
   "source": [
    "readtest3.groupBy('Name').avg().show()"
   ]
  },
  {
   "cell_type": "code",
   "execution_count": 34,
   "id": "910f5bc7",
   "metadata": {},
   "outputs": [
    {
     "name": "stdout",
     "output_type": "stream",
     "text": [
      "+------------+-----+\n",
      "| Departments|count|\n",
      "+------------+-----+\n",
      "|         IOT|    2|\n",
      "|    Big Data|    4|\n",
      "|Data Science|    4|\n",
      "+------------+-----+\n",
      "\n"
     ]
    }
   ],
   "source": [
    "readtest3.groupBy('Departments').count().show()"
   ]
  },
  {
   "cell_type": "code",
   "execution_count": 35,
   "id": "acf145a5",
   "metadata": {},
   "outputs": [
    {
     "name": "stdout",
     "output_type": "stream",
     "text": [
      "+-----------+\n",
      "|sum(Salary)|\n",
      "+-----------+\n",
      "|      73000|\n",
      "+-----------+\n",
      "\n"
     ]
    }
   ],
   "source": [
    "readtest3.agg({'Salary':'sum'}).show()"
   ]
  },
  {
   "cell_type": "markdown",
   "id": "c97b276b",
   "metadata": {},
   "source": [
    "## Here I Exercised Machine Learning using Spark"
   ]
  },
  {
   "cell_type": "code",
   "execution_count": 37,
   "id": "c160d0ad",
   "metadata": {},
   "outputs": [],
   "source": [
    "tobeTrained = spark.read.csv('tips.csv',header=True,inferSchema=True)"
   ]
  },
  {
   "cell_type": "code",
   "execution_count": 38,
   "id": "3a75fe78",
   "metadata": {},
   "outputs": [
    {
     "name": "stdout",
     "output_type": "stream",
     "text": [
      "+----------+----+------+------+---+------+----+\n",
      "|total_bill| tip|   sex|smoker|day|  time|size|\n",
      "+----------+----+------+------+---+------+----+\n",
      "|     16.99|1.01|Female|    No|Sun|Dinner|   2|\n",
      "|     10.34|1.66|  Male|    No|Sun|Dinner|   3|\n",
      "|     21.01| 3.5|  Male|    No|Sun|Dinner|   3|\n",
      "|     23.68|3.31|  Male|    No|Sun|Dinner|   2|\n",
      "|     24.59|3.61|Female|    No|Sun|Dinner|   4|\n",
      "|     25.29|4.71|  Male|    No|Sun|Dinner|   4|\n",
      "|      8.77| 2.0|  Male|    No|Sun|Dinner|   2|\n",
      "|     26.88|3.12|  Male|    No|Sun|Dinner|   4|\n",
      "|     15.04|1.96|  Male|    No|Sun|Dinner|   2|\n",
      "|     14.78|3.23|  Male|    No|Sun|Dinner|   2|\n",
      "|     10.27|1.71|  Male|    No|Sun|Dinner|   2|\n",
      "|     35.26| 5.0|Female|    No|Sun|Dinner|   4|\n",
      "|     15.42|1.57|  Male|    No|Sun|Dinner|   2|\n",
      "|     18.43| 3.0|  Male|    No|Sun|Dinner|   4|\n",
      "|     14.83|3.02|Female|    No|Sun|Dinner|   2|\n",
      "|     21.58|3.92|  Male|    No|Sun|Dinner|   2|\n",
      "|     10.33|1.67|Female|    No|Sun|Dinner|   3|\n",
      "|     16.29|3.71|  Male|    No|Sun|Dinner|   3|\n",
      "|     16.97| 3.5|Female|    No|Sun|Dinner|   3|\n",
      "|     20.65|3.35|  Male|    No|Sat|Dinner|   3|\n",
      "+----------+----+------+------+---+------+----+\n",
      "only showing top 20 rows\n",
      "\n"
     ]
    }
   ],
   "source": [
    "tobeTrained.show()"
   ]
  },
  {
   "cell_type": "code",
   "execution_count": 39,
   "id": "8dda3c4a",
   "metadata": {},
   "outputs": [
    {
     "name": "stdout",
     "output_type": "stream",
     "text": [
      "root\n",
      " |-- total_bill: double (nullable = true)\n",
      " |-- tip: double (nullable = true)\n",
      " |-- sex: string (nullable = true)\n",
      " |-- smoker: string (nullable = true)\n",
      " |-- day: string (nullable = true)\n",
      " |-- time: string (nullable = true)\n",
      " |-- size: integer (nullable = true)\n",
      "\n"
     ]
    }
   ],
   "source": [
    "tobeTrained.printSchema()"
   ]
  },
  {
   "cell_type": "code",
   "execution_count": 40,
   "id": "f88fc1f1",
   "metadata": {},
   "outputs": [
    {
     "data": {
      "text/plain": [
       "['total_bill', 'tip', 'sex', 'smoker', 'day', 'time', 'size']"
      ]
     },
     "execution_count": 40,
     "metadata": {},
     "output_type": "execute_result"
    }
   ],
   "source": [
    "tobeTrained.columns"
   ]
  },
  {
   "cell_type": "code",
   "execution_count": 46,
   "id": "90b0fa6e",
   "metadata": {},
   "outputs": [
    {
     "name": "stdout",
     "output_type": "stream",
     "text": [
      "+----------+----+------+------+---+------+----+-----------+--------------+-----------+----------+\n",
      "|total_bill| tip|   sex|smoker|day|  time|size|sex_indexed|smoker_indexed|day_indexed|time_index|\n",
      "+----------+----+------+------+---+------+----+-----------+--------------+-----------+----------+\n",
      "|     16.99|1.01|Female|    No|Sun|Dinner|   2|        1.0|           0.0|        1.0|       0.0|\n",
      "|     10.34|1.66|  Male|    No|Sun|Dinner|   3|        0.0|           0.0|        1.0|       0.0|\n",
      "|     21.01| 3.5|  Male|    No|Sun|Dinner|   3|        0.0|           0.0|        1.0|       0.0|\n",
      "|     23.68|3.31|  Male|    No|Sun|Dinner|   2|        0.0|           0.0|        1.0|       0.0|\n",
      "|     24.59|3.61|Female|    No|Sun|Dinner|   4|        1.0|           0.0|        1.0|       0.0|\n",
      "|     25.29|4.71|  Male|    No|Sun|Dinner|   4|        0.0|           0.0|        1.0|       0.0|\n",
      "|      8.77| 2.0|  Male|    No|Sun|Dinner|   2|        0.0|           0.0|        1.0|       0.0|\n",
      "|     26.88|3.12|  Male|    No|Sun|Dinner|   4|        0.0|           0.0|        1.0|       0.0|\n",
      "|     15.04|1.96|  Male|    No|Sun|Dinner|   2|        0.0|           0.0|        1.0|       0.0|\n",
      "|     14.78|3.23|  Male|    No|Sun|Dinner|   2|        0.0|           0.0|        1.0|       0.0|\n",
      "|     10.27|1.71|  Male|    No|Sun|Dinner|   2|        0.0|           0.0|        1.0|       0.0|\n",
      "|     35.26| 5.0|Female|    No|Sun|Dinner|   4|        1.0|           0.0|        1.0|       0.0|\n",
      "|     15.42|1.57|  Male|    No|Sun|Dinner|   2|        0.0|           0.0|        1.0|       0.0|\n",
      "|     18.43| 3.0|  Male|    No|Sun|Dinner|   4|        0.0|           0.0|        1.0|       0.0|\n",
      "|     14.83|3.02|Female|    No|Sun|Dinner|   2|        1.0|           0.0|        1.0|       0.0|\n",
      "|     21.58|3.92|  Male|    No|Sun|Dinner|   2|        0.0|           0.0|        1.0|       0.0|\n",
      "|     10.33|1.67|Female|    No|Sun|Dinner|   3|        1.0|           0.0|        1.0|       0.0|\n",
      "|     16.29|3.71|  Male|    No|Sun|Dinner|   3|        0.0|           0.0|        1.0|       0.0|\n",
      "|     16.97| 3.5|Female|    No|Sun|Dinner|   3|        1.0|           0.0|        1.0|       0.0|\n",
      "|     20.65|3.35|  Male|    No|Sat|Dinner|   3|        0.0|           0.0|        0.0|       0.0|\n",
      "+----------+----+------+------+---+------+----+-----------+--------------+-----------+----------+\n",
      "only showing top 20 rows\n",
      "\n"
     ]
    }
   ],
   "source": [
    "from pyspark.ml.feature import StringIndexer\n",
    "\n",
    "indexer=StringIndexer(inputCols=[\"sex\",\"smoker\",\"day\",\"time\"],outputCols=[\"sex_indexed\",\"smoker_indexed\",\"day_indexed\",\"time_index\"])\n",
    "df_r=indexer.fit(tobeTrained).transform(tobeTrained)\n",
    "df_r.show()"
   ]
  },
  {
   "cell_type": "code",
   "execution_count": 50,
   "id": "0765c2d5",
   "metadata": {},
   "outputs": [
    {
     "data": {
      "text/plain": [
       "['total_bill',\n",
       " 'tip',\n",
       " 'sex',\n",
       " 'smoker',\n",
       " 'day',\n",
       " 'time',\n",
       " 'size',\n",
       " 'sex_indexed',\n",
       " 'smoker_indexed',\n",
       " 'day_indexed',\n",
       " 'time_index']"
      ]
     },
     "execution_count": 50,
     "metadata": {},
     "output_type": "execute_result"
    }
   ],
   "source": [
    "df_r.columns"
   ]
  },
  {
   "cell_type": "code",
   "execution_count": 51,
   "id": "475a9adf",
   "metadata": {},
   "outputs": [],
   "source": [
    "from pyspark.ml.feature import VectorAssembler\n",
    "featureassembler=VectorAssembler(inputCols=['tip','size','sex_indexed','smoker_indexed','day_indexed','time_index'],outputCol=\"Independent Features\")\n",
    "output=featureassembler.transform(df_r)"
   ]
  },
  {
   "cell_type": "code",
   "execution_count": 52,
   "id": "1d7d5304",
   "metadata": {},
   "outputs": [
    {
     "name": "stdout",
     "output_type": "stream",
     "text": [
      "+--------------------+\n",
      "|Independent Features|\n",
      "+--------------------+\n",
      "|[1.01,2.0,1.0,0.0...|\n",
      "|[1.66,3.0,0.0,0.0...|\n",
      "|[3.5,3.0,0.0,0.0,...|\n",
      "|[3.31,2.0,0.0,0.0...|\n",
      "|[3.61,4.0,1.0,0.0...|\n",
      "|[4.71,4.0,0.0,0.0...|\n",
      "|[2.0,2.0,0.0,0.0,...|\n",
      "|[3.12,4.0,0.0,0.0...|\n",
      "|[1.96,2.0,0.0,0.0...|\n",
      "|[3.23,2.0,0.0,0.0...|\n",
      "|[1.71,2.0,0.0,0.0...|\n",
      "|[5.0,4.0,1.0,0.0,...|\n",
      "|[1.57,2.0,0.0,0.0...|\n",
      "|[3.0,4.0,0.0,0.0,...|\n",
      "|[3.02,2.0,1.0,0.0...|\n",
      "|[3.92,2.0,0.0,0.0...|\n",
      "|[1.67,3.0,1.0,0.0...|\n",
      "|[3.71,3.0,0.0,0.0...|\n",
      "|[3.5,3.0,1.0,0.0,...|\n",
      "|(6,[0,1],[3.35,3.0])|\n",
      "+--------------------+\n",
      "only showing top 20 rows\n",
      "\n"
     ]
    }
   ],
   "source": [
    "output.select('Independent Features').show()"
   ]
  },
  {
   "cell_type": "code",
   "execution_count": 53,
   "id": "cea92c57",
   "metadata": {},
   "outputs": [
    {
     "name": "stdout",
     "output_type": "stream",
     "text": [
      "+----------+----+------+------+---+------+----+-----------+--------------+-----------+----------+--------------------+\n",
      "|total_bill| tip|   sex|smoker|day|  time|size|sex_indexed|smoker_indexed|day_indexed|time_index|Independent Features|\n",
      "+----------+----+------+------+---+------+----+-----------+--------------+-----------+----------+--------------------+\n",
      "|     16.99|1.01|Female|    No|Sun|Dinner|   2|        1.0|           0.0|        1.0|       0.0|[1.01,2.0,1.0,0.0...|\n",
      "|     10.34|1.66|  Male|    No|Sun|Dinner|   3|        0.0|           0.0|        1.0|       0.0|[1.66,3.0,0.0,0.0...|\n",
      "|     21.01| 3.5|  Male|    No|Sun|Dinner|   3|        0.0|           0.0|        1.0|       0.0|[3.5,3.0,0.0,0.0,...|\n",
      "|     23.68|3.31|  Male|    No|Sun|Dinner|   2|        0.0|           0.0|        1.0|       0.0|[3.31,2.0,0.0,0.0...|\n",
      "|     24.59|3.61|Female|    No|Sun|Dinner|   4|        1.0|           0.0|        1.0|       0.0|[3.61,4.0,1.0,0.0...|\n",
      "|     25.29|4.71|  Male|    No|Sun|Dinner|   4|        0.0|           0.0|        1.0|       0.0|[4.71,4.0,0.0,0.0...|\n",
      "|      8.77| 2.0|  Male|    No|Sun|Dinner|   2|        0.0|           0.0|        1.0|       0.0|[2.0,2.0,0.0,0.0,...|\n",
      "|     26.88|3.12|  Male|    No|Sun|Dinner|   4|        0.0|           0.0|        1.0|       0.0|[3.12,4.0,0.0,0.0...|\n",
      "|     15.04|1.96|  Male|    No|Sun|Dinner|   2|        0.0|           0.0|        1.0|       0.0|[1.96,2.0,0.0,0.0...|\n",
      "|     14.78|3.23|  Male|    No|Sun|Dinner|   2|        0.0|           0.0|        1.0|       0.0|[3.23,2.0,0.0,0.0...|\n",
      "|     10.27|1.71|  Male|    No|Sun|Dinner|   2|        0.0|           0.0|        1.0|       0.0|[1.71,2.0,0.0,0.0...|\n",
      "|     35.26| 5.0|Female|    No|Sun|Dinner|   4|        1.0|           0.0|        1.0|       0.0|[5.0,4.0,1.0,0.0,...|\n",
      "|     15.42|1.57|  Male|    No|Sun|Dinner|   2|        0.0|           0.0|        1.0|       0.0|[1.57,2.0,0.0,0.0...|\n",
      "|     18.43| 3.0|  Male|    No|Sun|Dinner|   4|        0.0|           0.0|        1.0|       0.0|[3.0,4.0,0.0,0.0,...|\n",
      "|     14.83|3.02|Female|    No|Sun|Dinner|   2|        1.0|           0.0|        1.0|       0.0|[3.02,2.0,1.0,0.0...|\n",
      "|     21.58|3.92|  Male|    No|Sun|Dinner|   2|        0.0|           0.0|        1.0|       0.0|[3.92,2.0,0.0,0.0...|\n",
      "|     10.33|1.67|Female|    No|Sun|Dinner|   3|        1.0|           0.0|        1.0|       0.0|[1.67,3.0,1.0,0.0...|\n",
      "|     16.29|3.71|  Male|    No|Sun|Dinner|   3|        0.0|           0.0|        1.0|       0.0|[3.71,3.0,0.0,0.0...|\n",
      "|     16.97| 3.5|Female|    No|Sun|Dinner|   3|        1.0|           0.0|        1.0|       0.0|[3.5,3.0,1.0,0.0,...|\n",
      "|     20.65|3.35|  Male|    No|Sat|Dinner|   3|        0.0|           0.0|        0.0|       0.0|(6,[0,1],[3.35,3.0])|\n",
      "+----------+----+------+------+---+------+----+-----------+--------------+-----------+----------+--------------------+\n",
      "only showing top 20 rows\n",
      "\n"
     ]
    }
   ],
   "source": [
    "output.show()"
   ]
  },
  {
   "cell_type": "code",
   "execution_count": 54,
   "id": "dbcb8abf",
   "metadata": {},
   "outputs": [],
   "source": [
    "finalized_data=output.select(\"Independent Features\",\"total_bill\")"
   ]
  },
  {
   "cell_type": "code",
   "execution_count": 55,
   "id": "5ec67892",
   "metadata": {},
   "outputs": [
    {
     "name": "stdout",
     "output_type": "stream",
     "text": [
      "+--------------------+----------+\n",
      "|Independent Features|total_bill|\n",
      "+--------------------+----------+\n",
      "|[1.01,2.0,1.0,0.0...|     16.99|\n",
      "|[1.66,3.0,0.0,0.0...|     10.34|\n",
      "|[3.5,3.0,0.0,0.0,...|     21.01|\n",
      "|[3.31,2.0,0.0,0.0...|     23.68|\n",
      "|[3.61,4.0,1.0,0.0...|     24.59|\n",
      "|[4.71,4.0,0.0,0.0...|     25.29|\n",
      "|[2.0,2.0,0.0,0.0,...|      8.77|\n",
      "|[3.12,4.0,0.0,0.0...|     26.88|\n",
      "|[1.96,2.0,0.0,0.0...|     15.04|\n",
      "|[3.23,2.0,0.0,0.0...|     14.78|\n",
      "|[1.71,2.0,0.0,0.0...|     10.27|\n",
      "|[5.0,4.0,1.0,0.0,...|     35.26|\n",
      "|[1.57,2.0,0.0,0.0...|     15.42|\n",
      "|[3.0,4.0,0.0,0.0,...|     18.43|\n",
      "|[3.02,2.0,1.0,0.0...|     14.83|\n",
      "|[3.92,2.0,0.0,0.0...|     21.58|\n",
      "|[1.67,3.0,1.0,0.0...|     10.33|\n",
      "|[3.71,3.0,0.0,0.0...|     16.29|\n",
      "|[3.5,3.0,1.0,0.0,...|     16.97|\n",
      "|(6,[0,1],[3.35,3.0])|     20.65|\n",
      "+--------------------+----------+\n",
      "only showing top 20 rows\n",
      "\n"
     ]
    }
   ],
   "source": [
    "finalized_data.show()"
   ]
  },
  {
   "cell_type": "code",
   "execution_count": 56,
   "id": "65b8233c",
   "metadata": {},
   "outputs": [
    {
     "name": "stdout",
     "output_type": "stream",
     "text": [
      "22/12/02 08:40:59 WARN Instrumentation: [97b50900] regParam is zero, which might cause numerical instability and overfitting.\n",
      "22/12/02 08:40:59 WARN InstanceBuilder$JavaBLAS: Failed to load implementation from:dev.ludovic.netlib.blas.VectorBLAS\n",
      "22/12/02 08:40:59 WARN InstanceBuilder$NativeBLAS: Failed to load implementation from:dev.ludovic.netlib.blas.JNIBLAS\n",
      "22/12/02 08:40:59 WARN InstanceBuilder$NativeBLAS: Failed to load implementation from:dev.ludovic.netlib.blas.ForeignLinkerBLAS\n",
      "22/12/02 08:40:59 WARN InstanceBuilder$NativeLAPACK: Failed to load implementation from:dev.ludovic.netlib.lapack.JNILAPACK\n"
     ]
    }
   ],
   "source": [
    "from pyspark.ml.regression import LinearRegression\n",
    "train_data,test_data=finalized_data.randomSplit([0.75,0.25])\n",
    "\n",
    "regressor=LinearRegression(featuresCol='Independent Features', labelCol='total_bill')\n",
    "regressor=regressor.fit(train_data)"
   ]
  },
  {
   "cell_type": "code",
   "execution_count": 57,
   "id": "ae1f5e6e",
   "metadata": {},
   "outputs": [
    {
     "data": {
      "text/plain": [
       "DenseVector([3.4596, 3.3435, -0.9359, 2.8969, 0.4733, -2.2847])"
      ]
     },
     "execution_count": 57,
     "metadata": {},
     "output_type": "execute_result"
    }
   ],
   "source": [
    "regressor.coefficients"
   ]
  },
  {
   "cell_type": "code",
   "execution_count": 58,
   "id": "e456ea8a",
   "metadata": {},
   "outputs": [
    {
     "data": {
      "text/plain": [
       "0.1625775583194013"
      ]
     },
     "execution_count": 58,
     "metadata": {},
     "output_type": "execute_result"
    }
   ],
   "source": [
    "regressor.intercept"
   ]
  },
  {
   "cell_type": "code",
   "execution_count": 60,
   "id": "02e2134d",
   "metadata": {},
   "outputs": [
    {
     "name": "stdout",
     "output_type": "stream",
     "text": [
      "+--------------------+----------+------------------+\n",
      "|Independent Features|total_bill|        prediction|\n",
      "+--------------------+----------+------------------+\n",
      "|(6,[0,1],[1.25,2.0])|     10.51|11.174081252993432|\n",
      "| (6,[0,1],[2.0,2.0])|     12.69|13.768766678250921|\n",
      "|(6,[0,1],[2.01,2.0])|     20.23| 13.80336248392102|\n",
      "| (6,[0,1],[2.5,4.0])|     18.35| 22.18558494766746|\n",
      "|(6,[0,1],[3.18,2.0])|     19.82| 17.85107174732271|\n",
      "|(6,[0,1],[3.27,2.0])|     17.78|18.162433998353606|\n",
      "|(6,[0,1],[6.73,4.0])|     48.27| 36.81961074611971|\n",
      "|[1.1,2.0,1.0,1.0,...|      12.9|12.616134588232269|\n",
      "|[1.17,2.0,0.0,1.0...|     32.83|13.794196702611163|\n",
      "|[1.36,3.0,1.0,0.0...|     18.64|12.624175690891562|\n",
      "|[1.5,2.0,0.0,0.0,...|     19.08|10.700894452005384|\n",
      "|[1.5,2.0,0.0,1.0,...|     11.59| 14.93585828972446|\n",
      "|[1.63,2.0,1.0,0.0...|     11.87|10.214748451028486|\n",
      "|[1.66,3.0,0.0,0.0...|     10.34|16.409317989436722|\n",
      "|[1.8,2.0,1.0,0.0,...|     12.43|10.802877147420185|\n",
      "|[2.0,2.0,0.0,0.0,...|     15.95|12.430684735510377|\n",
      "|[2.0,2.0,0.0,1.0,...|     22.67|16.665648573229454|\n",
      "|[2.0,2.0,0.0,1.0,...|     13.51|15.327566630488912|\n",
      "|[2.0,2.0,1.0,0.0,...|     11.38|11.494793260822181|\n",
      "|[2.0,2.0,1.0,1.0,...|     10.63|15.729757098541256|\n",
      "+--------------------+----------+------------------+\n",
      "only showing top 20 rows\n",
      "\n"
     ]
    }
   ],
   "source": [
    "pred_results = regressor.evaluate(test_data)\n",
    "pred_results.predictions.show()"
   ]
  },
  {
   "cell_type": "code",
   "execution_count": 61,
   "id": "258d7ca6",
   "metadata": {},
   "outputs": [
    {
     "data": {
      "text/plain": [
       "(0.3770463555997354, 4.765959706534757, 43.016304038697136)"
      ]
     },
     "execution_count": 61,
     "metadata": {},
     "output_type": "execute_result"
    }
   ],
   "source": [
    "pred_results.r2,pred_results.meanAbsoluteError,pred_results.meanSquaredError"
   ]
  },
  {
   "cell_type": "code",
   "execution_count": null,
   "id": "4acb1dcb",
   "metadata": {},
   "outputs": [],
   "source": []
  }
 ],
 "metadata": {
  "kernelspec": {
   "display_name": "Python 3 (ipykernel)",
   "language": "python",
   "name": "python3"
  },
  "language_info": {
   "codemirror_mode": {
    "name": "ipython",
    "version": 3
   },
   "file_extension": ".py",
   "mimetype": "text/x-python",
   "name": "python",
   "nbconvert_exporter": "python",
   "pygments_lexer": "ipython3",
   "version": "3.9.13"
  }
 },
 "nbformat": 4,
 "nbformat_minor": 5
}
